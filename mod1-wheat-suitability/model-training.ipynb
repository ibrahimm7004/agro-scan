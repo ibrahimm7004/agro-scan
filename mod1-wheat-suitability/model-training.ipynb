{
 "cells": [
  {
   "cell_type": "markdown",
   "id": "6c34e4f3",
   "metadata": {},
   "source": [
    "# Wheat Growth Suitability Prediction "
   ]
  },
  {
   "cell_type": "code",
   "execution_count": 19,
   "id": "9ae1186a",
   "metadata": {},
   "outputs": [],
   "source": [
    "import pandas as pd\n",
    "\n",
    "file_path = 'data.csv'\n",
    "df = pd.read_csv(file_path)"
   ]
  },
  {
   "cell_type": "code",
   "execution_count": 20,
   "id": "d03969e9",
   "metadata": {},
   "outputs": [
    {
     "data": {
      "text/html": [
       "<div>\n",
       "<style scoped>\n",
       "    .dataframe tbody tr th:only-of-type {\n",
       "        vertical-align: middle;\n",
       "    }\n",
       "\n",
       "    .dataframe tbody tr th {\n",
       "        vertical-align: top;\n",
       "    }\n",
       "\n",
       "    .dataframe thead th {\n",
       "        text-align: right;\n",
       "    }\n",
       "</style>\n",
       "<table border=\"1\" class=\"dataframe\">\n",
       "  <thead>\n",
       "    <tr style=\"text-align: right;\">\n",
       "      <th></th>\n",
       "      <th>Region</th>\n",
       "      <th>Nitrogen_N_mg/kg</th>\n",
       "      <th>Phosphorus_P_mg/kg</th>\n",
       "      <th>Potassium_K_mg/kg</th>\n",
       "      <th>Temperature_C</th>\n",
       "      <th>Humidity_%</th>\n",
       "      <th>Rainfall_mm</th>\n",
       "      <th>Soil_Moisture_%</th>\n",
       "      <th>LDR</th>\n",
       "    </tr>\n",
       "  </thead>\n",
       "  <tbody>\n",
       "    <tr>\n",
       "      <th>0</th>\n",
       "      <td>Punjab</td>\n",
       "      <td>750.965158</td>\n",
       "      <td>28.193154</td>\n",
       "      <td>191.991431</td>\n",
       "      <td>24.48</td>\n",
       "      <td>53.64</td>\n",
       "      <td>3.09</td>\n",
       "      <td>27.844360</td>\n",
       "      <td>452.35</td>\n",
       "    </tr>\n",
       "    <tr>\n",
       "      <th>1</th>\n",
       "      <td>Punjab</td>\n",
       "      <td>784.305016</td>\n",
       "      <td>27.764688</td>\n",
       "      <td>254.701099</td>\n",
       "      <td>21.31</td>\n",
       "      <td>53.20</td>\n",
       "      <td>16.07</td>\n",
       "      <td>34.519483</td>\n",
       "      <td>309.73</td>\n",
       "    </tr>\n",
       "    <tr>\n",
       "      <th>2</th>\n",
       "      <td>Punjab</td>\n",
       "      <td>794.938568</td>\n",
       "      <td>15.758590</td>\n",
       "      <td>149.447401</td>\n",
       "      <td>25.24</td>\n",
       "      <td>33.07</td>\n",
       "      <td>4.60</td>\n",
       "      <td>26.836535</td>\n",
       "      <td>453.07</td>\n",
       "    </tr>\n",
       "    <tr>\n",
       "      <th>3</th>\n",
       "      <td>Punjab</td>\n",
       "      <td>992.682541</td>\n",
       "      <td>32.693723</td>\n",
       "      <td>182.747921</td>\n",
       "      <td>29.62</td>\n",
       "      <td>55.05</td>\n",
       "      <td>23.10</td>\n",
       "      <td>35.164865</td>\n",
       "      <td>322.42</td>\n",
       "    </tr>\n",
       "    <tr>\n",
       "      <th>4</th>\n",
       "      <td>Punjab</td>\n",
       "      <td>686.475356</td>\n",
       "      <td>8.605565</td>\n",
       "      <td>201.999587</td>\n",
       "      <td>20.83</td>\n",
       "      <td>70.99</td>\n",
       "      <td>40.76</td>\n",
       "      <td>24.459244</td>\n",
       "      <td>477.59</td>\n",
       "    </tr>\n",
       "  </tbody>\n",
       "</table>\n",
       "</div>"
      ],
      "text/plain": [
       "   Region  Nitrogen_N_mg/kg  Phosphorus_P_mg/kg  Potassium_K_mg/kg  \\\n",
       "0  Punjab        750.965158           28.193154         191.991431   \n",
       "1  Punjab        784.305016           27.764688         254.701099   \n",
       "2  Punjab        794.938568           15.758590         149.447401   \n",
       "3  Punjab        992.682541           32.693723         182.747921   \n",
       "4  Punjab        686.475356            8.605565         201.999587   \n",
       "\n",
       "   Temperature_C  Humidity_%  Rainfall_mm  Soil_Moisture_%     LDR  \n",
       "0          24.48       53.64         3.09        27.844360  452.35  \n",
       "1          21.31       53.20        16.07        34.519483  309.73  \n",
       "2          25.24       33.07         4.60        26.836535  453.07  \n",
       "3          29.62       55.05        23.10        35.164865  322.42  \n",
       "4          20.83       70.99        40.76        24.459244  477.59  "
      ]
     },
     "execution_count": 20,
     "metadata": {},
     "output_type": "execute_result"
    }
   ],
   "source": [
    "df.head()"
   ]
  },
  {
   "cell_type": "code",
   "execution_count": 21,
   "id": "f744d1ee",
   "metadata": {},
   "outputs": [],
   "source": [
    "df = df.drop(columns=['Region'])"
   ]
  },
  {
   "cell_type": "code",
   "execution_count": 22,
   "id": "9528e1cf",
   "metadata": {},
   "outputs": [],
   "source": [
    "def classify_suitability(row):\n",
    "    if (\n",
    "        20 <= row['Soil_Moisture_%'] <= 40 and\n",
    "        15 <= row['Temperature_C'] <= 25 and\n",
    "        50 <= row['Humidity_%'] <= 70 and\n",
    "        50 <= row['Rainfall_mm'] <= 200 and \n",
    "        600 <= row['Nitrogen_N_mg/kg'] <= 1000 and \n",
    "        150 <= row['Potassium_K_mg/kg'] <= 300 and\n",
    "        30 <= row['Phosphorus_P_mg/kg'] <= 60 \n",
    "    ):\n",
    "        return 1  # Suitable\n",
    "    else:\n",
    "        return 0  # Not Suitable\n",
    "\n",
    "# Apply the function to create the target column\n",
    "df['Wheat_Suitability'] = df.apply(classify_suitability, axis=1)"
   ]
  },
  {
   "cell_type": "markdown",
   "id": "0eae4867",
   "metadata": {},
   "source": [
    "- Wheat is classified as \"suitable\" if environmental and soil conditions fall within predefined optimal ranges (e.g., temperature between 15–25°C, soil moisture between 20–40%, adequate nutrient levels).\n",
    "- Otherwise, it's classified as \"not suitable\", meaning one or more of the key parameters fall outside those optimal thresholds."
   ]
  },
  {
   "cell_type": "code",
   "execution_count": 23,
   "id": "9d6d02d3",
   "metadata": {},
   "outputs": [
    {
     "data": {
      "text/plain": [
       "Wheat_Suitability\n",
       "0    4977\n",
       "1      23\n",
       "Name: count, dtype: int64"
      ]
     },
     "execution_count": 23,
     "metadata": {},
     "output_type": "execute_result"
    }
   ],
   "source": [
    "df['Wheat_Suitability'].value_counts()"
   ]
  },
  {
   "cell_type": "markdown",
   "id": "ed77407d",
   "metadata": {},
   "source": [
    "- Imbalanced classes, using SMOTE to oversample the minority class (which is 1)."
   ]
  },
  {
   "cell_type": "code",
   "execution_count": 24,
   "id": "c61fb6be",
   "metadata": {},
   "outputs": [],
   "source": [
    "from imblearn.over_sampling import SMOTE\n",
    "from sklearn.model_selection import train_test_split\n",
    "from sklearn.ensemble import RandomForestClassifier\n",
    "from sklearn.metrics import classification_report, confusion_matrix\n",
    "\n",
    "# Split data\n",
    "X = df.drop(columns=['LDR', 'Wheat_Suitability'])  \n",
    "y = df['Wheat_Suitability']\n",
    "X_train, X_test, y_train, y_test = train_test_split(\n",
    "    X, y, test_size=0.2, random_state=42, stratify=y\n",
    ")\n",
    "\n",
    "smote = SMOTE(random_state=42)\n",
    "X_train_resampled, y_train_resampled = smote.fit_resample(X_train, y_train)"
   ]
  },
  {
   "cell_type": "code",
   "execution_count": 25,
   "id": "399518d0",
   "metadata": {},
   "outputs": [
    {
     "name": "stdout",
     "output_type": "stream",
     "text": [
      "Wheat_Suitability\n",
      "0    3982\n",
      "1    3982\n",
      "Name: count, dtype: int64\n"
     ]
    }
   ],
   "source": [
    "print(pd.Series(y_train_resampled).value_counts())"
   ]
  },
  {
   "cell_type": "markdown",
   "id": "a2506f71",
   "metadata": {},
   "source": [
    "### Training Model:"
   ]
  },
  {
   "cell_type": "code",
   "execution_count": 26,
   "id": "cf378709",
   "metadata": {},
   "outputs": [],
   "source": [
    "# Train classifier on resampled data\n",
    "clf = RandomForestClassifier(random_state=42)\n",
    "clf.fit(X_train_resampled, y_train_resampled)\n",
    "\n",
    "y_pred = clf.predict(X_test)"
   ]
  },
  {
   "cell_type": "code",
   "execution_count": 27,
   "id": "a6261079",
   "metadata": {},
   "outputs": [
    {
     "name": "stdout",
     "output_type": "stream",
     "text": [
      "              precision    recall  f1-score   support\n",
      "\n",
      "           0       1.00      1.00      1.00       995\n",
      "           1       0.57      0.80      0.67         5\n",
      "\n",
      "    accuracy                           1.00      1000\n",
      "   macro avg       0.79      0.90      0.83      1000\n",
      "weighted avg       1.00      1.00      1.00      1000\n",
      "\n"
     ]
    }
   ],
   "source": [
    "print(classification_report(y_test, y_pred))"
   ]
  },
  {
   "cell_type": "code",
   "execution_count": 28,
   "id": "3cc42445",
   "metadata": {},
   "outputs": [
    {
     "name": "stdout",
     "output_type": "stream",
     "text": [
      "[[992   3]\n",
      " [  1   4]]\n"
     ]
    }
   ],
   "source": [
    "print(confusion_matrix(y_test, y_pred))"
   ]
  },
  {
   "cell_type": "markdown",
   "id": "9bad05fe",
   "metadata": {},
   "source": [
    "- True Positives (TP) = 4 → Correctly predicted suitability\n",
    "- True Negatives (TN) = 992 → Correctly predicted not suitable\n",
    "- False Positives (FP) = 3 → Predicted suitability when not\n",
    "- False Negatives (FN) = 1 → Missed one that was suitable"
   ]
  },
  {
   "cell_type": "markdown",
   "id": "7c93ae1d",
   "metadata": {},
   "source": [
    "- Precision (Class 1) = 4 / (4 + 3) = 0.57\n",
    "- Recall (Class 1) = 4 / (4 + 1) = 0.80\n",
    "- F1 Score (Class 1) = Harmonic mean ≈ 0.67\n",
    "- Accuracy = (992 + 4) / 1000 = 99.6%"
   ]
  },
  {
   "cell_type": "markdown",
   "id": "ab20ebd3",
   "metadata": {},
   "source": [
    "### Making Predictions on Unseen data:"
   ]
  },
  {
   "cell_type": "code",
   "execution_count": 31,
   "id": "879e029c",
   "metadata": {},
   "outputs": [],
   "source": [
    "import pandas as pd\n",
    "\n",
    "sample_data = pd.DataFrame([\n",
    "    {\n",
    "        'Soil_Moisture_%': 30.0,\n",
    "        'Nitrogen_N_mg/kg': 800,\n",
    "        'Phosphorus_P_mg/kg': 45,\n",
    "        'Potassium_K_mg/kg': 160,\n",
    "        'Temperature_C': 22,\n",
    "        'Humidity_%': 60,\n",
    "        'Rainfall_mm': 75\n",
    "    },\n",
    "    {\n",
    "        'Soil_Moisture_%': 18.0,\n",
    "        'Nitrogen_N_mg/kg': 400,\n",
    "        'Phosphorus_P_mg/kg': 25,\n",
    "        'Potassium_K_mg/kg': 100,\n",
    "        'Temperature_C': 27,\n",
    "        'Humidity_%': 80,\n",
    "        'Rainfall_mm': 15\n",
    "    },\n",
    "    {\n",
    "        'Soil_Moisture_%': 24.0,\n",
    "        'Nitrogen_N_mg/kg': 620,\n",
    "        'Phosphorus_P_mg/kg': 35,\n",
    "        'Potassium_K_mg/kg': 140,\n",
    "        'Temperature_C': 20,\n",
    "        'Humidity_%': 55,\n",
    "        'Rainfall_mm': 95\n",
    "    },\n",
    "    {\n",
    "        'Soil_Moisture_%': 10.0,\n",
    "        'Nitrogen_N_mg/kg': 300,\n",
    "        'Phosphorus_P_mg/kg': 10,\n",
    "        'Potassium_K_mg/kg': 90,\n",
    "        'Temperature_C': 35,\n",
    "        'Humidity_%': 25,\n",
    "        'Rainfall_mm': 5\n",
    "    }\n",
    "])\n",
    "\n",
    "# Reorder to match training data\n",
    "sample_data = sample_data[[\n",
    "    'Nitrogen_N_mg/kg',\n",
    "    'Phosphorus_P_mg/kg',\n",
    "    'Potassium_K_mg/kg',\n",
    "    'Temperature_C',\n",
    "    'Humidity_%',\n",
    "    'Rainfall_mm',\n",
    "    'Soil_Moisture_%'\n",
    "]]\n",
    "\n",
    "predictions = clf.predict(sample_data)\n",
    "sample_data['Predicted_Wheat_Suitability'] = predictions"
   ]
  },
  {
   "cell_type": "code",
   "execution_count": 33,
   "id": "74f5c9c1",
   "metadata": {},
   "outputs": [
    {
     "data": {
      "text/html": [
       "<div>\n",
       "<style scoped>\n",
       "    .dataframe tbody tr th:only-of-type {\n",
       "        vertical-align: middle;\n",
       "    }\n",
       "\n",
       "    .dataframe tbody tr th {\n",
       "        vertical-align: top;\n",
       "    }\n",
       "\n",
       "    .dataframe thead th {\n",
       "        text-align: right;\n",
       "    }\n",
       "</style>\n",
       "<table border=\"1\" class=\"dataframe\">\n",
       "  <thead>\n",
       "    <tr style=\"text-align: right;\">\n",
       "      <th></th>\n",
       "      <th>Nitrogen_N_mg/kg</th>\n",
       "      <th>Phosphorus_P_mg/kg</th>\n",
       "      <th>Potassium_K_mg/kg</th>\n",
       "      <th>Temperature_C</th>\n",
       "      <th>Humidity_%</th>\n",
       "      <th>Rainfall_mm</th>\n",
       "      <th>Soil_Moisture_%</th>\n",
       "      <th>Predicted_Wheat_Suitability</th>\n",
       "    </tr>\n",
       "  </thead>\n",
       "  <tbody>\n",
       "    <tr>\n",
       "      <th>0</th>\n",
       "      <td>800</td>\n",
       "      <td>45</td>\n",
       "      <td>160</td>\n",
       "      <td>22</td>\n",
       "      <td>60</td>\n",
       "      <td>75</td>\n",
       "      <td>30.0</td>\n",
       "      <td>0</td>\n",
       "    </tr>\n",
       "    <tr>\n",
       "      <th>1</th>\n",
       "      <td>400</td>\n",
       "      <td>25</td>\n",
       "      <td>100</td>\n",
       "      <td>27</td>\n",
       "      <td>80</td>\n",
       "      <td>15</td>\n",
       "      <td>18.0</td>\n",
       "      <td>0</td>\n",
       "    </tr>\n",
       "    <tr>\n",
       "      <th>2</th>\n",
       "      <td>620</td>\n",
       "      <td>35</td>\n",
       "      <td>140</td>\n",
       "      <td>20</td>\n",
       "      <td>55</td>\n",
       "      <td>95</td>\n",
       "      <td>24.0</td>\n",
       "      <td>0</td>\n",
       "    </tr>\n",
       "    <tr>\n",
       "      <th>3</th>\n",
       "      <td>300</td>\n",
       "      <td>10</td>\n",
       "      <td>90</td>\n",
       "      <td>35</td>\n",
       "      <td>25</td>\n",
       "      <td>5</td>\n",
       "      <td>10.0</td>\n",
       "      <td>0</td>\n",
       "    </tr>\n",
       "  </tbody>\n",
       "</table>\n",
       "</div>"
      ],
      "text/plain": [
       "   Nitrogen_N_mg/kg  Phosphorus_P_mg/kg  Potassium_K_mg/kg  Temperature_C  \\\n",
       "0               800                  45                160             22   \n",
       "1               400                  25                100             27   \n",
       "2               620                  35                140             20   \n",
       "3               300                  10                 90             35   \n",
       "\n",
       "   Humidity_%  Rainfall_mm  Soil_Moisture_%  Predicted_Wheat_Suitability  \n",
       "0          60           75             30.0                            0  \n",
       "1          80           15             18.0                            0  \n",
       "2          55           95             24.0                            0  \n",
       "3          25            5             10.0                            0  "
      ]
     },
     "execution_count": 33,
     "metadata": {},
     "output_type": "execute_result"
    }
   ],
   "source": [
    "sample_data"
   ]
  },
  {
   "cell_type": "markdown",
   "id": "78dd3207",
   "metadata": {},
   "source": [
    "### Saving Model:"
   ]
  },
  {
   "cell_type": "code",
   "execution_count": 34,
   "id": "62482bc9",
   "metadata": {},
   "outputs": [
    {
     "data": {
      "text/plain": [
       "['wheat_suitability_model.pkl']"
      ]
     },
     "execution_count": 34,
     "metadata": {},
     "output_type": "execute_result"
    }
   ],
   "source": [
    "import joblib\n",
    "\n",
    "joblib.dump(clf, 'wheat_suitability_model.pkl')"
   ]
  }
 ],
 "metadata": {
  "kernelspec": {
   "display_name": "Python 3",
   "language": "python",
   "name": "python3"
  },
  "language_info": {
   "codemirror_mode": {
    "name": "ipython",
    "version": 3
   },
   "file_extension": ".py",
   "mimetype": "text/x-python",
   "name": "python",
   "nbconvert_exporter": "python",
   "pygments_lexer": "ipython3",
   "version": "3.11.0"
  }
 },
 "nbformat": 4,
 "nbformat_minor": 5
}
