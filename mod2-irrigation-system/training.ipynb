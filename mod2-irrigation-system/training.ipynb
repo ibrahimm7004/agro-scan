{
 "cells": [
  {
   "cell_type": "markdown",
   "id": "47ddb8dd",
   "metadata": {},
   "source": [
    "$\n",
    "\\text{Irrigation\\_Need} = \\max\\left(0,\\ \\left(1 - \\frac{\\text{Soil\\_Moisture\\_\\%}}{40}\\right) \\cdot \\left(\\frac{\\text{Temperature\\_C}}{30}\\right) \\cdot \\left(1 - \\frac{\\text{Humidity\\_\\%}}{100}\\right) \\cdot \\left(1 - \\frac{\\text{Rainfall\\_mm}}{50}\\right)\\right) $\n"
   ]
  },
  {
   "cell_type": "markdown",
   "id": "113ef22c",
   "metadata": {},
   "source": [
    "---"
   ]
  },
  {
   "cell_type": "markdown",
   "id": "c9475a6c",
   "metadata": {},
   "source": [
    "### Applying the formula to generate Target variable:"
   ]
  },
  {
   "cell_type": "code",
   "execution_count": 2,
   "id": "25f638c4",
   "metadata": {},
   "outputs": [],
   "source": [
    "import pandas as pd\n",
    "\n",
    "df = pd.read_csv(r\"C:\\Users\\hp\\Desktop\\projects\\agro-scan\\data.csv\")\n",
    "\n",
    "def compute_irrigation_need(row):\n",
    "    # Clip values to avoid negatives and extreme outliers\n",
    "    soil_moisture_factor = max(0, 1 - row['Soil_Moisture_%'] / 40)\n",
    "    temperature_factor = row['Temperature_C'] / 30\n",
    "    humidity_factor = 1 - row['Humidity_%'] / 100\n",
    "    rainfall_factor = 1 - row['Rainfall_mm'] / 50\n",
    "\n",
    "    irrigation_need = soil_moisture_factor * temperature_factor * humidity_factor * rainfall_factor\n",
    "    return max(0, irrigation_need)\n",
    "\n",
    "# Compute the target variable\n",
    "df['Irrigation_Need'] = df.apply(compute_irrigation_need, axis=1)"
   ]
  },
  {
   "cell_type": "code",
   "execution_count": 3,
   "id": "42c5133a",
   "metadata": {},
   "outputs": [
    {
     "name": "stdout",
     "output_type": "stream",
     "text": [
      "   Temperature_C  Humidity_%  Soil_Moisture_%  Rainfall_mm  Irrigation_Need\n",
      "0          24.48       53.64        27.844360         3.09         0.107857\n",
      "1          21.31       53.20        34.519483        16.07         0.030909\n",
      "2          25.24       33.07        26.836535         4.60         0.168262\n",
      "3          29.62       55.05        35.164865        23.10         0.028862\n",
      "4          20.83       70.99        24.459244        40.76         0.014462\n"
     ]
    }
   ],
   "source": [
    "print(df[['Temperature_C', 'Humidity_%', 'Soil_Moisture_%', 'Rainfall_mm', 'Irrigation_Need']].head())\n",
    "\n",
    "df.to_csv(\"irrigation_data.csv\", index=False)"
   ]
  },
  {
   "cell_type": "code",
   "execution_count": 4,
   "id": "bbfd095f",
   "metadata": {},
   "outputs": [],
   "source": [
    "X = df[['Temperature_C', 'Humidity_%', 'Rainfall_mm', 'Soil_Moisture_%']]\n",
    "y = df['Irrigation_Need']"
   ]
  },
  {
   "cell_type": "markdown",
   "id": "40337d5d",
   "metadata": {},
   "source": [
    "### Training a RandomForest Regression Model"
   ]
  },
  {
   "cell_type": "code",
   "execution_count": 5,
   "id": "d9a80c21",
   "metadata": {},
   "outputs": [],
   "source": [
    "from sklearn.model_selection import train_test_split\n",
    "from sklearn.ensemble import RandomForestRegressor\n",
    "from sklearn.metrics import mean_squared_error\n",
    "\n",
    "X_train, X_test, y_train, y_test = train_test_split(X, y, test_size=0.2, random_state=42)\n",
    "\n",
    "model = RandomForestRegressor(random_state=42)\n",
    "model.fit(X_train, y_train)\n",
    "\n",
    "y_pred = model.predict(X_test)\n",
    "mse = mean_squared_error(y_test, y_pred)"
   ]
  },
  {
   "cell_type": "code",
   "execution_count": 5,
   "id": "91d1efa7",
   "metadata": {},
   "outputs": [
    {
     "name": "stdout",
     "output_type": "stream",
     "text": [
      "Test MSE: 3.7190990050219685e-05\n"
     ]
    }
   ],
   "source": [
    "print(\"Test MSE:\", mse)"
   ]
  },
  {
   "cell_type": "markdown",
   "id": "1b95af29",
   "metadata": {},
   "source": [
    "### Defining a Threshold to Trigger Irrigation:"
   ]
  },
  {
   "cell_type": "code",
   "execution_count": 6,
   "id": "d4e5ca71",
   "metadata": {},
   "outputs": [],
   "source": [
    "def classify_irrigation_need(value, threshold=0.05):\n",
    "    return 1 if value >= threshold else 0\n",
    "\n",
    "df['Irrigation_Trigger'] = df['Irrigation_Need'].apply(classify_irrigation_need)"
   ]
  },
  {
   "cell_type": "markdown",
   "id": "69b93daf",
   "metadata": {},
   "source": [
    "- classify_irrigation_need() checks whether a computed irrigation need value is above or below a defined threshold (default = 0.05).\n",
    "- If it's above or equal to the threshold → returns 1 (indicating irrigation should be triggered).\n",
    "- If it's below the threshold → returns 0 (indicating no irrigation is needed)."
   ]
  },
  {
   "cell_type": "markdown",
   "id": "93a44f0e",
   "metadata": {},
   "source": [
    "### Making Predictions:"
   ]
  },
  {
   "cell_type": "code",
   "execution_count": 7,
   "id": "64f0daaf",
   "metadata": {},
   "outputs": [],
   "source": [
    "import pandas as pd\n",
    "\n",
    "new_data = pd.DataFrame([{\n",
    "    'Temperature_C': 31.2,\n",
    "    'Humidity_%': 45.0,\n",
    "    'Rainfall_mm': 8.0,\n",
    "    'Soil_Moisture_%': 18.0\n",
    "}])\n",
    "\n",
    "predicted_irrigation_need = model.predict(new_data)[0]"
   ]
  },
  {
   "cell_type": "code",
   "execution_count": 8,
   "id": "f363f69b",
   "metadata": {},
   "outputs": [
    {
     "name": "stdout",
     "output_type": "stream",
     "text": [
      "Predicted Irrigation Need: 0.1433\n"
     ]
    }
   ],
   "source": [
    "print(\"Predicted Irrigation Need:\", round(predicted_irrigation_need, 4))"
   ]
  },
  {
   "cell_type": "code",
   "execution_count": 9,
   "id": "bdea089a",
   "metadata": {},
   "outputs": [
    {
     "name": "stdout",
     "output_type": "stream",
     "text": [
      "Irrigation Required? Yes\n"
     ]
    }
   ],
   "source": [
    "def irrigation_decision(need, threshold=0.05):\n",
    "    return \"Yes\" if need >= threshold else \"No\"\n",
    "\n",
    "decision = irrigation_decision(predicted_irrigation_need)\n",
    "print(\"Irrigation Required?\", decision)"
   ]
  },
  {
   "cell_type": "markdown",
   "id": "3e59b6a9",
   "metadata": {},
   "source": [
    "### Saving the Trained Model:"
   ]
  },
  {
   "cell_type": "code",
   "execution_count": 7,
   "id": "8e01d31d",
   "metadata": {},
   "outputs": [
    {
     "data": {
      "text/plain": [
       "['irrigation_model.pkl']"
      ]
     },
     "execution_count": 7,
     "metadata": {},
     "output_type": "execute_result"
    }
   ],
   "source": [
    "import joblib\n",
    "joblib.dump(model, 'irrigation_model.pkl')"
   ]
  }
 ],
 "metadata": {
  "kernelspec": {
   "display_name": "Python 3",
   "language": "python",
   "name": "python3"
  },
  "language_info": {
   "codemirror_mode": {
    "name": "ipython",
    "version": 3
   },
   "file_extension": ".py",
   "mimetype": "text/x-python",
   "name": "python",
   "nbconvert_exporter": "python",
   "pygments_lexer": "ipython3",
   "version": "3.11.0"
  }
 },
 "nbformat": 4,
 "nbformat_minor": 5
}
